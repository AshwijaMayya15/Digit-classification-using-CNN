{
 "cells": [
  {
   "cell_type": "code",
   "execution_count": 1,
   "id": "fa34f8ea",
   "metadata": {},
   "outputs": [
    {
     "name": "stdout",
     "output_type": "stream",
     "text": [
      "Epoch 1/12\n",
      "469/469 [==============================] - 44s 94ms/step - loss: 19.4027 - accuracy: 0.1433 - val_loss: 3.6317 - val_accuracy: 0.3683\n",
      "Epoch 2/12\n",
      "469/469 [==============================] - 45s 95ms/step - loss: 8.3002 - accuracy: 0.2429 - val_loss: 1.6119 - val_accuracy: 0.5146\n",
      "Epoch 3/12\n",
      "469/469 [==============================] - 44s 94ms/step - loss: 4.3608 - accuracy: 0.3067 - val_loss: 1.4366 - val_accuracy: 0.5336\n",
      "Epoch 4/12\n",
      "469/469 [==============================] - 44s 94ms/step - loss: 2.8773 - accuracy: 0.3285 - val_loss: 1.5937 - val_accuracy: 0.5154\n",
      "Epoch 5/12\n",
      "469/469 [==============================] - 44s 93ms/step - loss: 2.3152 - accuracy: 0.3432 - val_loss: 1.6566 - val_accuracy: 0.5132\n",
      "Epoch 6/12\n",
      "469/469 [==============================] - 44s 94ms/step - loss: 2.1059 - accuracy: 0.3580 - val_loss: 1.6346 - val_accuracy: 0.5421\n",
      "Epoch 7/12\n",
      "469/469 [==============================] - 52s 111ms/step - loss: 1.9582 - accuracy: 0.3862 - val_loss: 1.5652 - val_accuracy: 0.5741\n",
      "Epoch 8/12\n",
      "469/469 [==============================] - 54s 116ms/step - loss: 1.8712 - accuracy: 0.4101 - val_loss: 1.4859 - val_accuracy: 0.6053\n",
      "Epoch 9/12\n",
      "469/469 [==============================] - 54s 115ms/step - loss: 1.7998 - accuracy: 0.4283 - val_loss: 1.3924 - val_accuracy: 0.6389\n",
      "Epoch 10/12\n",
      "469/469 [==============================] - 54s 115ms/step - loss: 1.7352 - accuracy: 0.4487 - val_loss: 1.3051 - val_accuracy: 0.6606\n",
      "Epoch 11/12\n",
      "469/469 [==============================] - 54s 114ms/step - loss: 1.6707 - accuracy: 0.4690 - val_loss: 1.2288 - val_accuracy: 0.6830\n",
      "Epoch 12/12\n",
      "469/469 [==============================] - 54s 115ms/step - loss: 1.6290 - accuracy: 0.4850 - val_loss: 1.1653 - val_accuracy: 0.7050\n",
      "Test loss: 1.1653034687042236\n",
      "Test accuracy: 0.7049999833106995\n"
     ]
    }
   ],
   "source": [
    "import keras\n",
    "from keras.datasets import mnist\n",
    "from keras.models import Sequential\n",
    "from keras.layers import Dense, Dropout, Conv2D, MaxPooling2D, Flatten\n",
    "from keras.utils import to_categorical\n",
    "from keras import backend as K\n",
    "import numpy as np\n",
    "import tensorflow\n",
    "\n",
    "(x_train, y_train), (x_test, y_test) = mnist.load_data()\n",
    "\n",
    "img_rows, img_cols = 28, 28  # Define the image dimensions\n",
    "\n",
    "if K.image_data_format() == 'channels_first':\n",
    "    x_train = x_train.reshape(x_train.shape[0], 1, img_rows, img_cols)\n",
    "    x_test = x_test.reshape(x_test.shape[0], 1, img_rows, img_cols)\n",
    "    input_shape = (1, img_rows, img_cols)\n",
    "else:\n",
    "    x_train = x_train.reshape(x_train.shape[0], img_rows, img_cols, 1)\n",
    "    x_test = x_test.reshape(x_test.shape[0], img_rows, img_cols, 1)\n",
    "    input_shape = (img_rows, img_cols, 1)\n",
    "\n",
    "# Convert class vectors to one-hot encoded format\n",
    "num_classes = 10\n",
    "y_train = to_categorical(y_train, num_classes)\n",
    "y_test = to_categorical(y_test, num_classes)\n",
    "\n",
    "model = Sequential()\n",
    "model.add(Conv2D(32, kernel_size=(3, 3), activation='relu', input_shape=input_shape))\n",
    "model.add(Conv2D(64, (3, 3), activation='relu'))\n",
    "model.add(MaxPooling2D(pool_size=(2, 2)))\n",
    "model.add(Dropout(0.25))\n",
    "model.add(Flatten())\n",
    "model.add(Dense(128, activation='relu'))\n",
    "model.add(Dropout(0.5))\n",
    "model.add(Dense(num_classes, activation='softmax'))\n",
    "model.compile(loss=keras.losses.categorical_crossentropy, optimizer=tensorflow.keras.optimizers.Adadelta(), metrics=['accuracy'])\n",
    "model.fit(x_train, y_train, batch_size=128, epochs=12, verbose=1, validation_data=(x_test, y_test))\n",
    "score = model.evaluate(x_test, y_test, verbose=0)\n",
    "print(\"Test loss:\", score[0])\n",
    "print(\"Test accuracy:\", score[1])\n"
   ]
  }
 ],
 "metadata": {
  "kernelspec": {
   "display_name": "Python 3 (ipykernel)",
   "language": "python",
   "name": "python3"
  },
  "language_info": {
   "codemirror_mode": {
    "name": "ipython",
    "version": 3
   },
   "file_extension": ".py",
   "mimetype": "text/x-python",
   "name": "python",
   "nbconvert_exporter": "python",
   "pygments_lexer": "ipython3",
   "version": "3.10.9"
  }
 },
 "nbformat": 4,
 "nbformat_minor": 5
}
